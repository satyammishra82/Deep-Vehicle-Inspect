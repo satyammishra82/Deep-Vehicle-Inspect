{
  "nbformat": 4,
  "nbformat_minor": 0,
  "metadata": {
    "colab": {
      "provenance": [],
      "include_colab_link": true
    },
    "kernelspec": {
      "name": "python3",
      "display_name": "Python 3"
    },
    "accelerator": "TPU"
  },
  "cells": [
    {
      "cell_type": "markdown",
      "metadata": {
        "id": "view-in-github",
        "colab_type": "text"
      },
      "source": [
        "<a href=\"https://colab.research.google.com/github/KvKavindu/Car-damage-detection/blob/main/KNN_and_CNN_for_damage_detection_dataset.ipynb\" target=\"_parent\"><img src=\"https://colab.research.google.com/assets/colab-badge.svg\" alt=\"Open In Colab\"/></a>"
      ]
    },
    {
      "metadata": {
        "id": "HAowIwaVcNO_"
      },
      "cell_type": "markdown",
      "source": [
        "**This is the notebook that demonstrates how to classify labeled car damage images using KNN & CNN\n",
        "algorithm**\n",
        "\n",
        "This notebook loads the car damage dataset from the google drive.Then applies KNN algorithm and Custome CNN algorithm and show results\n"
      ]
    },
    {
      "metadata": {
        "id": "Kk3Nqvh9ij0e"
      },
      "cell_type": "markdown",
      "source": [
        "We will load the dataset from the google drive. For that we import google colab library ."
      ]
    },
    {
      "metadata": {
        "id": "qlIBlZ2JZKek",
        "outputId": "199d7c34-ae22-4ad8-dd5b-7484ada2b91f",
        "colab": {
          "base_uri": "https://localhost:8080/"
        }
      },
      "cell_type": "code",
      "source": [
        "\n",
        "from google.colab import drive\n",
        "drive.mount('/content/gdrive')"
      ],
      "execution_count": null,
      "outputs": [
        {
          "output_type": "stream",
          "name": "stdout",
          "text": [
            "Drive already mounted at /content/gdrive; to attempt to forcibly remount, call drive.mount(\"/content/gdrive\", force_remount=True).\n"
          ]
        }
      ]
    },
    {
      "metadata": {
        "id": "XJ8R7qPSjA0a"
      },
      "cell_type": "markdown",
      "source": [
        "Lets **list** the folder in our dataset ,here the folder is car-damage"
      ]
    },
    {
      "metadata": {
        "id": "aGH5vImXvQ6Y",
        "outputId": "8ef4b3a9-4bf8-4ff1-fb32-f3e7cf12cb91",
        "colab": {
          "base_uri": "https://localhost:8080/"
        }
      },
      "cell_type": "code",
      "source": [
        "!ls /content/gdrive/My\\ Drive/datasets/car-damage"
      ],
      "execution_count": null,
      "outputs": [
        {
          "output_type": "stream",
          "name": "stdout",
          "text": [
            "damage\tundamage\n"
          ]
        }
      ]
    },
    {
      "metadata": {
        "id": "TrrpRKtIjV0b"
      },
      "cell_type": "markdown",
      "source": [
        "Here is the class SimpleDatasetLoader which loads the dataset fom the drive and it gives data and label,which are tuple of numpy array of data and labels\n",
        "\n",
        "# Implement SimpleDatasetLoader"
      ]
    },
    {
      "metadata": {
        "id": "OH__VfWsR3ue"
      },
      "cell_type": "code",
      "source": [
        "#Class to load the dataset images from drivce\n",
        "import os\n",
        "import cv2\n",
        "import numpy as np\n",
        "\n",
        "\n",
        "class SimpleDatasetLoader:\n",
        "    # Method: Constructor\n",
        "    def __init__(self, preprocessors=None):\n",
        "        \"\"\"\n",
        "        :param preprocessors: List of image preprocessors\n",
        "        \"\"\"\n",
        "        self.preprocessors = preprocessors\n",
        "\n",
        "        if self.preprocessors is None:\n",
        "            self.preprocessors = []\n",
        "\n",
        "    # Method: Used to load a list of images for pre-processing\n",
        "    def load(self, image_paths, verbose=-1):\n",
        "        \"\"\"\n",
        "        :param image_paths: List of image paths\n",
        "        :param verbose: Parameter for printing information to console\n",
        "        :return: Tuple of data and labels\n",
        "        \"\"\"\n",
        "        data, labels = [], []\n",
        "\n",
        "        for i, image_path in enumerate(image_paths):\n",
        "            image = cv2.imread(image_path)\n",
        "            label = image_path.split(os.path.sep)[-2]\n",
        "\n",
        "            if self.preprocessors is not None:\n",
        "                for p in self.preprocessors:\n",
        "                    image = p.preprocess(image)\n",
        "\n",
        "            data.append(image)\n",
        "            labels.append(label)\n",
        "\n",
        "            if verbose > 0 and i > 0 and (i+1) % verbose == 0:\n",
        "                print('[INFO]: Processed {}/{}'.format(i+1, len(image_paths)))\n",
        "\n",
        "        return (np.array(data), np.array(labels))"
      ],
      "execution_count": null,
      "outputs": []
    },
    {
      "metadata": {
        "id": "1BlK-S-PlZ9n"
      },
      "cell_type": "markdown",
      "source": [
        "\n",
        "\n",
        "\n",
        "\n",
        "\n",
        "Machine learning algorithm such as k-NN require all images in a dataset to have a **fixed feature vector size**.\n",
        "\n",
        "In the case of images, this\n",
        "requirement implies that our images must be preprocessed and scaled to have identical widths and heights.\n",
        "\n",
        "There are a number of ways to accomplish this resizing and scaling, ranging from more advanced methods that respect the aspect ratio of the original image to the scaled image to simple methods that ignore the aspect ratio and simply squash the width and height to the required dimensions\n",
        "\n",
        "class SimplePreprocessor builds an image preprocessor that resizes\n",
        "the image, ignoring the aspect ratio.\n"
      ]
    },
    {
      "metadata": {
        "id": "umz4t5kxmg-c"
      },
      "cell_type": "markdown",
      "source": [
        "#Implementing SimplePreprocessor"
      ]
    },
    {
      "metadata": {
        "id": "3b8mRpIbR9Tf"
      },
      "cell_type": "code",
      "source": [
        "#Class Preprocessror\n",
        "class SimplePreprocessor:\n",
        "    # Method: Constructor\n",
        "    def __init__(self, width, height, interpolation=cv2.INTER_AREA):\n",
        "        \"\"\"\n",
        "        :param width: Image width\n",
        "        :param height: Image height\n",
        "        :param interpolation: Interpolation algorithm\n",
        "        \"\"\"\n",
        "        self.width = width\n",
        "        self.height = height\n",
        "        self.interpolation = interpolation\n",
        "\n",
        "    # Method: Used to resize the image to a fixed size (ignoring the aspect ratio)\n",
        "    def preprocess(self, image):\n",
        "        \"\"\"\n",
        "        :param image: Image\n",
        "        :return: Re-sized image\n",
        "        \"\"\"\n",
        "        return cv2.resize(image, (self.width, self.height), interpolation=self.interpolation)"
      ],
      "execution_count": null,
      "outputs": []
    },
    {
      "metadata": {
        "id": "7obCyoDtmIsd"
      },
      "cell_type": "markdown",
      "source": [
        "# Implement k-NN Classifier\n",
        "\n",
        "---\n",
        "• Step #1 –**Gather Our Dataset** : The datasets consists of 750 images with 605 and 146 damaged and undamaged images respectively. Each image is represented in the RGB color space. We will preprocess each image by resizing it to 32 × 32 pixels. Taking into account the three RGB channels, the resized image dimensions imply that each image in the dataset is represented by 32 × 32 × 3 = 3, 072 integers.\n",
        "\n",
        "• Step #2 – **Split the Dataset**: We will split the data, One split for training, and the other for testing.\n",
        "\n",
        "• Step #3 – **Train the Classifier**: Our k-NN classifier will be trained on the raw pixel intensities of the images in the training set.\n",
        "\n",
        "• Step #4 – **Evaluate**: Once our k-NN classifier is trained, we can evaluate performance on the test set."
      ]
    },
    {
      "metadata": {
        "id": "fcCvmbWGSDhk",
        "outputId": "75474112-4f61-4eb5-f216-42e304f850a0",
        "colab": {
          "base_uri": "https://localhost:8080/"
        }
      },
      "cell_type": "code",
      "source": [
        "\n",
        "from imutils import paths\n",
        "from sklearn.neighbors import KNeighborsClassifier\n",
        "from sklearn.preprocessing import LabelEncoder\n",
        "from sklearn.model_selection import train_test_split\n",
        "from sklearn.metrics import classification_report\n",
        "from __main__ import SimplePreprocessor\n",
        "from __main__ import SimpleDatasetLoader\n",
        "\n",
        "\n",
        "\n",
        "\n",
        "# Get list of image paths\n",
        "image_paths = list(paths.list_images(\"/content/gdrive/My Drive/datasets/car-damage\"))\n",
        "\n",
        "# Initialize SimplePreprocessor and SimpleDatasetLoader and load data and labels\n",
        "print('[INFO]: Images loading....')\n",
        "sp = SimplePreprocessor(32, 32)\n",
        "sdl = SimpleDatasetLoader(preprocessors=[sp])\n",
        "(data, labels) = sdl.load(image_paths, verbose=500)\n",
        "\n",
        "# Reshape from (32, 32, 3) to (32*32*3=3072)\n",
        "data = data.reshape((data.shape[0], 3072))\n",
        "\n",
        "# Print information about memory consumption\n",
        "print('[INFO]: Features Matrix: {:.1f}MB'.format(float(data.nbytes / 1024*1000.0)))\n",
        "\n",
        "# Encode labels as integers\n",
        "le = LabelEncoder()\n",
        "labels = le.fit_transform(labels)\n",
        "\n",
        "# Split data into training (75%) and testing (25%) data\n",
        "(train_x, test_x, train_y, test_y) = train_test_split(data, labels, test_size=0.25, random_state=42)\n",
        "\n",
        "# Train and evaluate the k-NN classifier on the raw pixel intensities\n",
        "print('[INFO]: Classification starting....')\n",
        "model = KNeighborsClassifier(n_neighbors=7,\n",
        "                             n_jobs=1)\n",
        "model.fit(train_x, train_y)\n",
        "print(classification_report(test_y, model.predict(test_x),\n",
        "                            target_names=le.classes_))\n",
        "\n",
        "print('[INFO]: Classification based on kd_tree')\n",
        "model = KNeighborsClassifier(n_neighbors=7,\n",
        "                             n_jobs=1,algorithm='kd_tree')\n",
        "model.fit(train_x, train_y)\n",
        "print(classification_report(test_y, model.predict(test_x),\n",
        "                            target_names=le.classes_))"
      ],
      "execution_count": null,
      "outputs": [
        {
          "output_type": "stream",
          "name": "stdout",
          "text": [
            "[INFO]: Images loading....\n",
            "[INFO]: Processed 500/751\n",
            "[INFO]: Features Matrix: 2253000.0MB\n",
            "[INFO]: Classification starting....\n",
            "              precision    recall  f1-score   support\n",
            "\n",
            "      damage       0.77      1.00      0.87       143\n",
            "    undamage       1.00      0.04      0.09        45\n",
            "\n",
            "    accuracy                           0.77       188\n",
            "   macro avg       0.88      0.52      0.48       188\n",
            "weighted avg       0.82      0.77      0.68       188\n",
            "\n",
            "[INFO]: Classification based on kd_tree\n",
            "              precision    recall  f1-score   support\n",
            "\n",
            "      damage       0.77      1.00      0.87       143\n",
            "    undamage       1.00      0.04      0.09        45\n",
            "\n",
            "    accuracy                           0.77       188\n",
            "   macro avg       0.88      0.52      0.48       188\n",
            "weighted avg       0.82      0.77      0.68       188\n",
            "\n"
          ]
        }
      ]
    },
    {
      "cell_type": "markdown",
      "source": [
        "The construction of a KD tree is very fast."
      ],
      "metadata": {
        "id": "qrPsw12b6bbx"
      }
    },
    {
      "metadata": {
        "id": "_qQVucJV3DWx"
      },
      "cell_type": "markdown",
      "source": [
        "# How to find Best K?"
      ]
    },
    {
      "metadata": {
        "id": "mbjd3lACpnSo",
        "outputId": "4011cba0-1973-4fe1-d4e8-d839a4c58c42",
        "colab": {
          "base_uri": "https://localhost:8080/"
        }
      },
      "cell_type": "code",
      "source": [
        "import sklearn\n",
        "from sklearn.metrics import accuracy_score\n",
        "from sklearn.model_selection import GridSearchCV\n",
        "import numpy as np\n",
        "\n",
        "model = KNeighborsClassifier(n_neighbors=2,n_jobs=1)\n",
        "model.fit(train_x, train_y)\n",
        "\n",
        "accuracy = accuracy_score(model.predict(test_x), test_y)\n",
        "print(accuracy)\n",
        "n_neighbors = np.array([7,8,9,10,12,15,20])\n",
        "param_grid = dict(n_neighbors=n_neighbors)\n",
        "grid = GridSearchCV(estimator=model, param_grid=param_grid)\n",
        "grid.fit(train_x, train_y)\n",
        "print(grid.best_score_)\n",
        "print(grid.best_estimator_.n_neighbors)"
      ],
      "execution_count": null,
      "outputs": [
        {
          "output_type": "stream",
          "name": "stdout",
          "text": [
            "0.7712765957446809\n",
            "0.8223767383059417\n",
            "7\n"
          ]
        }
      ]
    },
    {
      "metadata": {
        "id": "IosHrvJAjzbz"
      },
      "cell_type": "markdown",
      "source": [
        "K=7 Neighbours gives best score."
      ]
    },
    {
      "metadata": {
        "id": "10Q7T9-Dsjq4"
      },
      "cell_type": "markdown",
      "source": [
        "Classifying a new testing point\n",
        "requires a comparison to every single data point in our training data, which scales O(N), making\n",
        "working with larger datasets computationally prohibitive."
      ]
    },
    {
      "cell_type": "markdown",
      "source": [
        "**Convolutional Neural Network**"
      ],
      "metadata": {
        "id": "zzXWHXHxnBPb"
      }
    },
    {
      "metadata": {
        "id": "EM8AgyAC1HpA"
      },
      "cell_type": "code",
      "source": [
        "import tensorflow as tf\n",
        "\n",
        "from tensorflow.keras import datasets, layers, models\n",
        "import matplotlib.pyplot as plt"
      ],
      "execution_count": null,
      "outputs": []
    },
    {
      "cell_type": "markdown",
      "source": [],
      "metadata": {
        "id": "GB_g-yD8m_u0"
      }
    },
    {
      "cell_type": "code",
      "source": [
        "modelCNN = models.Sequential()\n",
        "modelCNN.add(layers.Conv2D(32, (3, 3), activation='relu', input_shape=(32, 32, 3)))\n",
        "modelCNN.add(layers.MaxPooling2D((2, 2)))\n",
        "modelCNN.add(layers.Conv2D(64, (3, 3), activation='relu'))\n",
        "modelCNN.add(layers.MaxPooling2D((2, 2)))\n",
        "modelCNN.add(layers.Conv2D(64, (3, 3), activation='relu'))\n",
        "modelCNN.add(layers.Flatten())\n",
        "modelCNN.add(layers.Dense(64, activation='relu'))\n",
        "modelCNN.add(layers.Dense(2))"
      ],
      "metadata": {
        "id": "2gX68n6-m-u1"
      },
      "execution_count": null,
      "outputs": []
    },
    {
      "cell_type": "code",
      "source": [
        "modelCNN.summary()"
      ],
      "metadata": {
        "colab": {
          "base_uri": "https://localhost:8080/"
        },
        "id": "9tXAVMIEs7VH",
        "outputId": "68be8e9a-596d-419e-b217-29e5aa281a24"
      },
      "execution_count": null,
      "outputs": [
        {
          "output_type": "stream",
          "name": "stdout",
          "text": [
            "Model: \"sequential_2\"\n",
            "_________________________________________________________________\n",
            " Layer (type)                Output Shape              Param #   \n",
            "=================================================================\n",
            " conv2d_4 (Conv2D)           (None, 30, 30, 32)        896       \n",
            "                                                                 \n",
            " max_pooling2d_2 (MaxPooling  (None, 15, 15, 32)       0         \n",
            " 2D)                                                             \n",
            "                                                                 \n",
            " conv2d_5 (Conv2D)           (None, 13, 13, 64)        18496     \n",
            "                                                                 \n",
            " max_pooling2d_3 (MaxPooling  (None, 6, 6, 64)         0         \n",
            " 2D)                                                             \n",
            "                                                                 \n",
            " conv2d_6 (Conv2D)           (None, 4, 4, 64)          36928     \n",
            "                                                                 \n",
            " flatten_1 (Flatten)         (None, 1024)              0         \n",
            "                                                                 \n",
            " dense_2 (Dense)             (None, 64)                65600     \n",
            "                                                                 \n",
            " dense_3 (Dense)             (None, 2)                 130       \n",
            "                                                                 \n",
            "=================================================================\n",
            "Total params: 122,050\n",
            "Trainable params: 122,050\n",
            "Non-trainable params: 0\n",
            "_________________________________________________________________\n"
          ]
        }
      ]
    },
    {
      "cell_type": "code",
      "source": [
        "from imutils import paths\n",
        "from sklearn.neighbors import KNeighborsClassifier\n",
        "from sklearn.preprocessing import LabelEncoder\n",
        "from sklearn.model_selection import train_test_split\n",
        "from sklearn.metrics import classification_report\n",
        "from __main__ import SimplePreprocessor\n",
        "from __main__ import SimpleDatasetLoader\n",
        "\n",
        "\n",
        "# Get list of image paths\n",
        "image_paths = list(paths.list_images(\"/content/gdrive/My Drive/datasets/car-damage\"))\n",
        "\n",
        "# Initialize SimplePreprocessor and SimpleDatasetLoader and load data and labels\n",
        "print('[INFO]: Images loading....')\n",
        "sp = SimplePreprocessor(32, 32)\n",
        "sdl = SimpleDatasetLoader(preprocessors=[sp])\n",
        "(dataC, labels) = sdl.load(image_paths, verbose=500)\n",
        "\n",
        "# Reshape from (3000, 32, 32, 3) to (3000, 32*32*3=3072)\n",
        "#dataC = dataC.reshape((data.shape[0], 3072))\n",
        "\n",
        "# Print information about memory consumption\n",
        "print('[INFO]: Features Matrix: {:.1f}MB'.format(float(dataC.nbytes / 1024*1000.0)))\n",
        "\n",
        "# Encode labels as integers\n",
        "le = LabelEncoder()\n",
        "labels = le.fit_transform(labels)\n",
        "\n",
        "# Split data into training (75%) and testing (25%) data\n",
        "(train_x, test_x, train_y, test_y) = train_test_split(dataC, labels, test_size=0.25, random_state=42)\n",
        "\n",
        "# Train and evaluate the k-NN classifier on the raw pixel intensities\n",
        "print('[INFO]: CNN Classification starting....')\n",
        "\n",
        "modelCNN.compile(optimizer='adam',\n",
        "              loss=tf.keras.losses.SparseCategoricalCrossentropy(from_logits=True),\n",
        "              metrics=['accuracy'])\n",
        "\n",
        "history = modelCNN.fit(train_x, train_y, epochs=20,\n",
        "                    validation_data=(test_x, test_y))\n"
      ],
      "metadata": {
        "colab": {
          "base_uri": "https://localhost:8080/"
        },
        "id": "0YmkEhS-xQ_t",
        "outputId": "f8ae2251-f26f-4cd8-85b6-46b64ebfa323"
      },
      "execution_count": null,
      "outputs": [
        {
          "output_type": "stream",
          "name": "stdout",
          "text": [
            "[INFO]: Images loading....\n",
            "[INFO]: Processed 500/751\n",
            "[INFO]: Features Matrix: 2253000.0MB\n",
            "[INFO]: CNN Classification starting....\n",
            "Epoch 1/20\n",
            "18/18 [==============================] - 2s 63ms/step - loss: 0.4249 - accuracy: 0.8472 - val_loss: 0.7890 - val_accuracy: 0.7287\n",
            "Epoch 2/20\n",
            "18/18 [==============================] - 1s 56ms/step - loss: 0.3044 - accuracy: 0.8917 - val_loss: 0.5620 - val_accuracy: 0.7660\n",
            "Epoch 3/20\n",
            "18/18 [==============================] - 1s 52ms/step - loss: 0.2034 - accuracy: 0.9183 - val_loss: 0.7108 - val_accuracy: 0.7553\n",
            "Epoch 4/20\n",
            "18/18 [==============================] - 1s 51ms/step - loss: 0.1937 - accuracy: 0.9396 - val_loss: 0.6919 - val_accuracy: 0.7713\n",
            "Epoch 5/20\n",
            "18/18 [==============================] - 1s 51ms/step - loss: 0.1181 - accuracy: 0.9609 - val_loss: 0.7857 - val_accuracy: 0.7500\n",
            "Epoch 6/20\n",
            "18/18 [==============================] - 1s 51ms/step - loss: 0.0899 - accuracy: 0.9734 - val_loss: 1.0664 - val_accuracy: 0.7500\n",
            "Epoch 7/20\n",
            "18/18 [==============================] - 1s 53ms/step - loss: 0.0585 - accuracy: 0.9787 - val_loss: 1.1048 - val_accuracy: 0.7819\n",
            "Epoch 8/20\n",
            "18/18 [==============================] - 1s 50ms/step - loss: 0.0551 - accuracy: 0.9840 - val_loss: 1.0288 - val_accuracy: 0.7979\n",
            "Epoch 9/20\n",
            "18/18 [==============================] - 1s 50ms/step - loss: 0.0908 - accuracy: 0.9645 - val_loss: 1.0917 - val_accuracy: 0.7926\n",
            "Epoch 10/20\n",
            "18/18 [==============================] - 1s 50ms/step - loss: 0.0888 - accuracy: 0.9751 - val_loss: 1.0289 - val_accuracy: 0.7447\n",
            "Epoch 11/20\n",
            "18/18 [==============================] - 1s 49ms/step - loss: 0.0717 - accuracy: 0.9734 - val_loss: 0.9796 - val_accuracy: 0.7606\n",
            "Epoch 12/20\n",
            "18/18 [==============================] - 1s 51ms/step - loss: 0.0365 - accuracy: 0.9929 - val_loss: 1.1358 - val_accuracy: 0.7819\n",
            "Epoch 13/20\n",
            "18/18 [==============================] - 1s 50ms/step - loss: 0.0194 - accuracy: 0.9982 - val_loss: 1.1908 - val_accuracy: 0.7872\n",
            "Epoch 14/20\n",
            "18/18 [==============================] - 1s 51ms/step - loss: 0.0151 - accuracy: 0.9964 - val_loss: 2.3393 - val_accuracy: 0.7553\n",
            "Epoch 15/20\n",
            "18/18 [==============================] - 1s 52ms/step - loss: 0.0851 - accuracy: 0.9787 - val_loss: 1.7546 - val_accuracy: 0.7500\n",
            "Epoch 16/20\n",
            "18/18 [==============================] - 1s 52ms/step - loss: 0.0934 - accuracy: 0.9716 - val_loss: 1.1630 - val_accuracy: 0.7660\n",
            "Epoch 17/20\n",
            "18/18 [==============================] - 1s 51ms/step - loss: 0.0320 - accuracy: 0.9911 - val_loss: 1.3377 - val_accuracy: 0.7500\n",
            "Epoch 18/20\n",
            "18/18 [==============================] - 1s 51ms/step - loss: 0.0130 - accuracy: 1.0000 - val_loss: 1.5214 - val_accuracy: 0.7553\n",
            "Epoch 19/20\n",
            "18/18 [==============================] - 1s 51ms/step - loss: 0.0042 - accuracy: 1.0000 - val_loss: 1.4924 - val_accuracy: 0.7660\n",
            "Epoch 20/20\n",
            "18/18 [==============================] - 1s 51ms/step - loss: 0.0019 - accuracy: 1.0000 - val_loss: 1.5422 - val_accuracy: 0.7713\n"
          ]
        }
      ]
    },
    {
      "cell_type": "code",
      "source": [
        "plt.plot(history.history['accuracy'], label='accuracy')\n",
        "plt.plot(history.history['val_accuracy'], label = 'val_accuracy')\n",
        "plt.xlabel('Epoch')\n",
        "plt.ylabel('Accuracy')\n",
        "plt.ylim([0.5, 1])\n",
        "plt.legend(loc='lower right')\n",
        "\n",
        "test_loss, test_acc = modelCNN.evaluate(test_x,  test_y, verbose=2)"
      ],
      "metadata": {
        "colab": {
          "base_uri": "https://localhost:8080/",
          "height": 300
        },
        "id": "g_pb0N6wtLDg",
        "outputId": "926e409a-df0d-4f3e-fd7f-401fa7b9ec5a"
      },
      "execution_count": null,
      "outputs": [
        {
          "output_type": "stream",
          "name": "stdout",
          "text": [
            "6/6 - 0s - loss: 1.5422 - accuracy: 0.7713 - 94ms/epoch - 16ms/step\n"
          ]
        },
        {
          "output_type": "display_data",
          "data": {
            "text/plain": [
              "<Figure size 432x288 with 1 Axes>"
            ],
            "image/png": "[encoded data removed]"
          },
          "metadata": {
            "needs_background": "light"
          }
        }
      ]
    }
  ]
}